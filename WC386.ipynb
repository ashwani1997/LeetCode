{
 "cells": [
  {
   "cell_type": "markdown",
   "id": "1e07b0b7-b4e6-4a02-92de-edfa37fc6f9c",
   "metadata": {},
   "source": [
    " # 100224. Split the Array\n"
   ]
  },
  {
   "cell_type": "code",
   "execution_count": 29,
   "id": "8fe8b01b-157e-417f-8c3d-a63199581daa",
   "metadata": {},
   "outputs": [],
   "source": [
    "nums = [1,1,2,2,2,3,3,4]\n",
    "snums = set(nums)"
   ]
  },
  {
   "cell_type": "code",
   "execution_count": 31,
   "id": "dec14eb1-a093-4553-8351-4d2548b91dae",
   "metadata": {},
   "outputs": [],
   "source": [
    "def cn_ele(x):\n",
    "    c = 0\n",
    "    for i in nums:\n",
    "        if i == x:\n",
    "            c = c+1\n",
    "    return c\n",
    "    "
   ]
  },
  {
   "cell_type": "code",
   "execution_count": 60,
   "id": "eab12914-fc18-4e4f-959c-9aef1331209a",
   "metadata": {},
   "outputs": [],
   "source": [
    "l1 = list(filter(lambda i : i>1 and i%2 != 0,dnums.values()))"
   ]
  },
  {
   "cell_type": "code",
   "execution_count": 68,
   "id": "1d5ff0b3-e40e-459d-901e-e8289c63a233",
   "metadata": {},
   "outputs": [
    {
     "data": {
      "text/plain": [
       "[3]"
      ]
     },
     "execution_count": 68,
     "metadata": {},
     "output_type": "execute_result"
    }
   ],
   "source": [
    "list(filter(lambda i : i>1 and i%2 != 0,{x:cn_ele(x) for x in set(nums)}.values()))"
   ]
  },
  {
   "cell_type": "code",
   "execution_count": 57,
   "id": "72435f47-bc40-474f-b551-0b43393cbe7d",
   "metadata": {},
   "outputs": [],
   "source": [
    "l1 = []"
   ]
  },
  {
   "cell_type": "code",
   "execution_count": 65,
   "id": "e50186a9-097b-4604-9737-ffaea4c47c22",
   "metadata": {},
   "outputs": [
    {
     "data": {
      "text/plain": [
       "[3]"
      ]
     },
     "execution_count": 65,
     "metadata": {},
     "output_type": "execute_result"
    }
   ],
   "source": [
    "l1"
   ]
  },
  {
   "cell_type": "code",
   "execution_count": 66,
   "id": "3f50ac4b-1278-41e4-ab4b-697c6b623207",
   "metadata": {},
   "outputs": [
    {
     "name": "stdout",
     "output_type": "stream",
     "text": [
      "not empty\n"
     ]
    }
   ],
   "source": [
    "if l1:\n",
    "    print(\"not empty\")"
   ]
  },
  {
   "cell_type": "code",
   "execution_count": 67,
   "id": "4e612412-8302-4896-92e4-a0b1069794ea",
   "metadata": {},
   "outputs": [
    {
     "ename": "SyntaxError",
     "evalue": "'return' outside function (<ipython-input-67-64423257d2f0>, line 2)",
     "output_type": "error",
     "traceback": [
      "\u001b[1;36m  Cell \u001b[1;32mIn[67], line 2\u001b[1;36m\u001b[0m\n\u001b[1;33m    return False\u001b[0m\n\u001b[1;37m    ^\u001b[0m\n\u001b[1;31mSyntaxError\u001b[0m\u001b[1;31m:\u001b[0m 'return' outside function\n"
     ]
    }
   ],
   "source": []
  }
 ],
 "metadata": {
  "kernelspec": {
   "display_name": "Python 3",
   "language": "python",
   "name": "python3"
  },
  "language_info": {
   "codemirror_mode": {
    "name": "ipython",
    "version": 3
   },
   "file_extension": ".py",
   "mimetype": "text/x-python",
   "name": "python",
   "nbconvert_exporter": "python",
   "pygments_lexer": "ipython3",
   "version": "3.8.2"
  },
  "widgets": {
   "application/vnd.jupyter.widget-state+json": {
    "state": {},
    "version_major": 2,
    "version_minor": 0
   }
  }
 },
 "nbformat": 4,
 "nbformat_minor": 5
}
